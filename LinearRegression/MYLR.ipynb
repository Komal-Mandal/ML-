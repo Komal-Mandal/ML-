{
  "cells": [
    {
      "cell_type": "code",
      "execution_count": 38,
      "metadata": {
        "id": "LOJDNwo5r7n8"
      },
      "outputs": [],
      "source": [
        "class MyLR:\n",
        "\n",
        "\n",
        "    def __init__(self):\n",
        "        self.m = None\n",
        "        self.b = None\n",
        "\n",
        "    def fit(self,x_train,y_train):\n",
        "      den =0\n",
        "      num =0\n",
        "      for i in range(x_train.shape[0]):\n",
        "        num = num+(x_train[i]-x_train.mean())*(y_train[i]-y_train.mean())\n",
        "        den = den+(x_train[i]-x_train.mean()*x_train[i]-x_train.mean())\n",
        "        self.m = num/den\n",
        "        self.b = y_train.mean() - (self.m * X_train.mean())\n",
        "        print(self.m)\n",
        "        print(self.b)\n",
        "\n",
        "    def predict(self,X_test):\n",
        "       print(X_test)\n",
        "       return self.m * X_test + self.b\n"
      ]
    },
    {
      "cell_type": "code",
      "execution_count": 45,
      "metadata": {
        "id": "14OsEQMxvgi1"
      },
      "outputs": [],
      "source": [
        "lr = MyLR()"
      ]
    },
    {
      "cell_type": "code",
      "execution_count": 48,
      "metadata": {
        "id": "WGKpnT3BxtV4"
      },
      "outputs": [],
      "source": []
    }
  ],
  "metadata": {
    "colab": {
      "provenance": []
    },
    "kernelspec": {
      "display_name": "Python 3",
      "name": "python3"
    },
    "language_info": {
      "name": "python"
    }
  },
  "nbformat": 4,
  "nbformat_minor": 0
}
